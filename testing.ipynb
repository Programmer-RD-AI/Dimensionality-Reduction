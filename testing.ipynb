{
 "cells": [
  {
   "cell_type": "code",
   "execution_count": 17,
   "id": "edf5b12f-64d7-43be-8a25-6ed5cea8d0e8",
   "metadata": {},
   "outputs": [
    {
     "name": "stdout",
     "output_type": "stream",
     "text": [
      "Components: [[-0.57735027 -0.57735027 -0.57735027]\n",
      " [ 0.          0.          0.        ]]\n",
      "Transformed data: [[ 5.14470537  0.        ]\n",
      " [ 0.          0.        ]\n",
      " [-5.14470537  0.        ]]\n"
     ]
    }
   ],
   "source": [
    "from sklearn.decomposition import SparsePCA\n",
    "import numpy as np\n",
    "\n",
    "# Generate example data\n",
    "X = np.array([[1, 2, 3],\n",
    "              [4, 5, 6],\n",
    "              [7, 8, 9]])\n",
    "\n",
    "# Perform Sparse PCA\n",
    "spca = SparsePCA(n_components=2, alpha=1)\n",
    "X_spca = spca.fit_transform(X)\n",
    "\n",
    "# Components\n",
    "print(\"Components:\", spca.components_)\n",
    "\n",
    "# Transformed data\n",
    "print(\"Transformed data:\", X_spca) "
   ]
  },
  {
   "cell_type": "code",
   "execution_count": 18,
   "id": "eb31b678-a661-4764-99c1-cd16429bb3c5",
   "metadata": {},
   "outputs": [
    {
     "data": {
      "text/plain": [
       "((3, 2), (3, 3))"
      ]
     },
     "execution_count": 18,
     "metadata": {},
     "output_type": "execute_result"
    }
   ],
   "source": [
    "X_spca.shape, X.shape"
   ]
  },
  {
   "cell_type": "code",
   "execution_count": 19,
   "id": "66f4a8e0-68ea-441e-9b61-4eb9e6f0c141",
   "metadata": {},
   "outputs": [
    {
     "data": {
      "text/plain": [
       "(array([[ 5.14470537,  0.        ],\n",
       "        [ 0.        ,  0.        ],\n",
       "        [-5.14470537,  0.        ]]),\n",
       " array([[1, 2, 3],\n",
       "        [4, 5, 6],\n",
       "        [7, 8, 9]]))"
      ]
     },
     "execution_count": 19,
     "metadata": {},
     "output_type": "execute_result"
    }
   ],
   "source": [
    "X_spca, X"
   ]
  },
  {
   "cell_type": "code",
   "execution_count": null,
   "id": "97c79b31-37ae-4f4c-88ae-dcc234346957",
   "metadata": {},
   "outputs": [],
   "source": []
  }
 ],
 "metadata": {
  "kernelspec": {
   "display_name": "Python 3 (ipykernel)",
   "language": "python",
   "name": "python3"
  },
  "language_info": {
   "codemirror_mode": {
    "name": "ipython",
    "version": 3
   },
   "file_extension": ".py",
   "mimetype": "text/x-python",
   "name": "python",
   "nbconvert_exporter": "python",
   "pygments_lexer": "ipython3",
   "version": "3.11.7"
  }
 },
 "nbformat": 4,
 "nbformat_minor": 5
}
