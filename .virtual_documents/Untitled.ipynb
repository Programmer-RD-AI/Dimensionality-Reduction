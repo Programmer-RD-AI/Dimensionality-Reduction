from sklearn.decomposition import SparsePCA
import numpy as np

# Generate example data
X = np.array([[1, 2, 3],
              [4, 5, 6],
              [7, 8, 9]])

# Perform Sparse PCA
spca = SparsePCA(n_components=2, alpha=1)
X_spca = spca.fit_transform(X)

# Components
print("Components:", spca.components_)

# Transformed data
print("Transformed data:", X_spca) 


X_spca.shape, X.shape


X_spca, X



